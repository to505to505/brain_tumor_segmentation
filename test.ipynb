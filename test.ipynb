{
 "cells": [
  {
   "cell_type": "code",
   "execution_count": 2,
   "metadata": {},
   "outputs": [
    {
     "name": "stdout",
     "output_type": "stream",
     "text": [
      "[ 3  4  5  6 50  6  7  8  9]\n"
     ]
    }
   ],
   "source": [
    "from statsmodels.tsa.holtwinters import ExponentialSmoothing\n",
    "import numpy as np\n",
    "data = np.array([1, 2, 2, 3, 3, 3, 4, 5, 6, 8, 50, 6, 7, 8, 9])\n",
    "model = ExponentialSmoothing(data, trend='additive').fit()\n",
    "predictions = model.fittedvalues\n",
    "residuals = data - predictions\n",
    "threshold = 2\n",
    "anomalies = data[np.abs(residuals) > threshold]\n",
    "print(anomalies)\n"
   ]
  },
  {
   "cell_type": "code",
   "execution_count": 3,
   "metadata": {},
   "outputs": [
    {
     "name": "stdout",
     "output_type": "stream",
     "text": [
      "[100]\n"
     ]
    }
   ],
   "source": [
    "import numpy as np\n",
    "\n",
    "data = np.array([1, 2, 3, 4, 5, 6, 7, 8, 9, 10, 100])\n",
    "median = np.median(data)\n",
    "MAD = np.median(np.abs(data - median))\n",
    "modified_z_scores = 0.6745 * (data - median) / MAD\n",
    "anomalies = data[np.abs(modified_z_scores) > 3.5]\n",
    "print(anomalies)\n"
   ]
  }
 ],
 "metadata": {
  "kernelspec": {
   "display_name": "Python 3",
   "language": "python",
   "name": "python3"
  },
  "language_info": {
   "codemirror_mode": {
    "name": "ipython",
    "version": 3
   },
   "file_extension": ".py",
   "mimetype": "text/x-python",
   "name": "python",
   "nbconvert_exporter": "python",
   "pygments_lexer": "ipython3",
   "version": "3.9.18"
  }
 },
 "nbformat": 4,
 "nbformat_minor": 2
}
